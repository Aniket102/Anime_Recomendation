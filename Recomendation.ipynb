{
 "cells": [
  {
   "cell_type": "code",
   "execution_count": 5,
   "metadata": {
    "executionInfo": {
     "elapsed": 563,
     "status": "ok",
     "timestamp": 1631532114204,
     "user": {
      "displayName": "anonymous anwicgh",
      "photoUrl": "https://lh3.googleusercontent.com/a-/AOh14Gj2JkB8jOGL-4H5v3uEQ2ReXFEl47PMFD7v3Lsr=s64",
      "userId": "09312410064248870968"
     },
     "user_tz": -330
    },
    "id": "hz2azf4u5Ppy"
   },
   "outputs": [],
   "source": [
    "import pandas as pd\n",
    "import seaborn as sns\n",
    "import numpy as np"
   ]
  },
  {
   "cell_type": "code",
   "execution_count": 6,
   "metadata": {
    "colab": {
     "base_uri": "https://localhost:8080/",
     "height": 203
    },
    "executionInfo": {
     "elapsed": 7,
     "status": "ok",
     "timestamp": 1631532116727,
     "user": {
      "displayName": "anonymous anwicgh",
      "photoUrl": "https://lh3.googleusercontent.com/a-/AOh14Gj2JkB8jOGL-4H5v3uEQ2ReXFEl47PMFD7v3Lsr=s64",
      "userId": "09312410064248870968"
     },
     "user_tz": -330
    },
    "id": "nX6d14oN2R2E",
    "outputId": "ae37856f-aae2-4b17-a92a-7af435223143"
   },
   "outputs": [
    {
     "data": {
      "text/html": [
       "<div>\n",
       "<style scoped>\n",
       "    .dataframe tbody tr th:only-of-type {\n",
       "        vertical-align: middle;\n",
       "    }\n",
       "\n",
       "    .dataframe tbody tr th {\n",
       "        vertical-align: top;\n",
       "    }\n",
       "\n",
       "    .dataframe thead th {\n",
       "        text-align: right;\n",
       "    }\n",
       "</style>\n",
       "<table border=\"1\" class=\"dataframe\">\n",
       "  <thead>\n",
       "    <tr style=\"text-align: right;\">\n",
       "      <th></th>\n",
       "      <th>anime_id</th>\n",
       "      <th>name</th>\n",
       "      <th>genre</th>\n",
       "      <th>type</th>\n",
       "      <th>episodes</th>\n",
       "      <th>rating</th>\n",
       "      <th>members</th>\n",
       "    </tr>\n",
       "  </thead>\n",
       "  <tbody>\n",
       "    <tr>\n",
       "      <th>0</th>\n",
       "      <td>32281</td>\n",
       "      <td>Kimi no Na wa.</td>\n",
       "      <td>Drama, Romance, School, Supernatural</td>\n",
       "      <td>Movie</td>\n",
       "      <td>1</td>\n",
       "      <td>9.37</td>\n",
       "      <td>200630</td>\n",
       "    </tr>\n",
       "    <tr>\n",
       "      <th>1</th>\n",
       "      <td>5114</td>\n",
       "      <td>Fullmetal Alchemist: Brotherhood</td>\n",
       "      <td>Action, Adventure, Drama, Fantasy, Magic, Mili...</td>\n",
       "      <td>TV</td>\n",
       "      <td>64</td>\n",
       "      <td>9.26</td>\n",
       "      <td>793665</td>\n",
       "    </tr>\n",
       "    <tr>\n",
       "      <th>2</th>\n",
       "      <td>28977</td>\n",
       "      <td>Gintama°</td>\n",
       "      <td>Action, Comedy, Historical, Parody, Samurai, S...</td>\n",
       "      <td>TV</td>\n",
       "      <td>51</td>\n",
       "      <td>9.25</td>\n",
       "      <td>114262</td>\n",
       "    </tr>\n",
       "    <tr>\n",
       "      <th>3</th>\n",
       "      <td>9253</td>\n",
       "      <td>Steins;Gate</td>\n",
       "      <td>Sci-Fi, Thriller</td>\n",
       "      <td>TV</td>\n",
       "      <td>24</td>\n",
       "      <td>9.17</td>\n",
       "      <td>673572</td>\n",
       "    </tr>\n",
       "    <tr>\n",
       "      <th>4</th>\n",
       "      <td>9969</td>\n",
       "      <td>Gintama&amp;#039;</td>\n",
       "      <td>Action, Comedy, Historical, Parody, Samurai, S...</td>\n",
       "      <td>TV</td>\n",
       "      <td>51</td>\n",
       "      <td>9.16</td>\n",
       "      <td>151266</td>\n",
       "    </tr>\n",
       "  </tbody>\n",
       "</table>\n",
       "</div>"
      ],
      "text/plain": [
       "   anime_id                              name  \\\n",
       "0     32281                    Kimi no Na wa.   \n",
       "1      5114  Fullmetal Alchemist: Brotherhood   \n",
       "2     28977                          Gintama°   \n",
       "3      9253                       Steins;Gate   \n",
       "4      9969                     Gintama&#039;   \n",
       "\n",
       "                                               genre   type episodes  rating  \\\n",
       "0               Drama, Romance, School, Supernatural  Movie        1    9.37   \n",
       "1  Action, Adventure, Drama, Fantasy, Magic, Mili...     TV       64    9.26   \n",
       "2  Action, Comedy, Historical, Parody, Samurai, S...     TV       51    9.25   \n",
       "3                                   Sci-Fi, Thriller     TV       24    9.17   \n",
       "4  Action, Comedy, Historical, Parody, Samurai, S...     TV       51    9.16   \n",
       "\n",
       "   members  \n",
       "0   200630  \n",
       "1   793665  \n",
       "2   114262  \n",
       "3   673572  \n",
       "4   151266  "
      ]
     },
     "execution_count": 6,
     "metadata": {},
     "output_type": "execute_result"
    }
   ],
   "source": [
    "anime_df = pd.read_csv('data/anime.csv')\n",
    "anime_df.head()"
   ]
  },
  {
   "cell_type": "code",
   "execution_count": 7,
   "metadata": {
    "colab": {
     "base_uri": "https://localhost:8080/",
     "height": 203
    },
    "executionInfo": {
     "elapsed": 639,
     "status": "ok",
     "timestamp": 1631532118105,
     "user": {
      "displayName": "anonymous anwicgh",
      "photoUrl": "https://lh3.googleusercontent.com/a-/AOh14Gj2JkB8jOGL-4H5v3uEQ2ReXFEl47PMFD7v3Lsr=s64",
      "userId": "09312410064248870968"
     },
     "user_tz": -330
    },
    "id": "mK7l2dGI5G-L",
    "outputId": "29cd59a4-2a62-4a0d-f7dd-688fed0abd38"
   },
   "outputs": [
    {
     "data": {
      "text/html": [
       "<div>\n",
       "<style scoped>\n",
       "    .dataframe tbody tr th:only-of-type {\n",
       "        vertical-align: middle;\n",
       "    }\n",
       "\n",
       "    .dataframe tbody tr th {\n",
       "        vertical-align: top;\n",
       "    }\n",
       "\n",
       "    .dataframe thead th {\n",
       "        text-align: right;\n",
       "    }\n",
       "</style>\n",
       "<table border=\"1\" class=\"dataframe\">\n",
       "  <thead>\n",
       "    <tr style=\"text-align: right;\">\n",
       "      <th></th>\n",
       "      <th>user_id</th>\n",
       "      <th>anime_id</th>\n",
       "      <th>rating</th>\n",
       "    </tr>\n",
       "  </thead>\n",
       "  <tbody>\n",
       "    <tr>\n",
       "      <th>0</th>\n",
       "      <td>1</td>\n",
       "      <td>20</td>\n",
       "      <td>-1</td>\n",
       "    </tr>\n",
       "    <tr>\n",
       "      <th>1</th>\n",
       "      <td>1</td>\n",
       "      <td>24</td>\n",
       "      <td>-1</td>\n",
       "    </tr>\n",
       "    <tr>\n",
       "      <th>2</th>\n",
       "      <td>1</td>\n",
       "      <td>79</td>\n",
       "      <td>-1</td>\n",
       "    </tr>\n",
       "    <tr>\n",
       "      <th>3</th>\n",
       "      <td>1</td>\n",
       "      <td>226</td>\n",
       "      <td>-1</td>\n",
       "    </tr>\n",
       "    <tr>\n",
       "      <th>4</th>\n",
       "      <td>1</td>\n",
       "      <td>241</td>\n",
       "      <td>-1</td>\n",
       "    </tr>\n",
       "  </tbody>\n",
       "</table>\n",
       "</div>"
      ],
      "text/plain": [
       "   user_id  anime_id  rating\n",
       "0        1        20      -1\n",
       "1        1        24      -1\n",
       "2        1        79      -1\n",
       "3        1       226      -1\n",
       "4        1       241      -1"
      ]
     },
     "execution_count": 7,
     "metadata": {},
     "output_type": "execute_result"
    }
   ],
   "source": [
    "rating_df = pd.read_csv('data/rating.csv')\n",
    "rating_df.head()"
   ]
  },
  {
   "cell_type": "code",
   "execution_count": 8,
   "metadata": {
    "colab": {
     "base_uri": "https://localhost:8080/"
    },
    "executionInfo": {
     "elapsed": 11,
     "status": "ok",
     "timestamp": 1631532118106,
     "user": {
      "displayName": "anonymous anwicgh",
      "photoUrl": "https://lh3.googleusercontent.com/a-/AOh14Gj2JkB8jOGL-4H5v3uEQ2ReXFEl47PMFD7v3Lsr=s64",
      "userId": "09312410064248870968"
     },
     "user_tz": -330
    },
    "id": "7ujT_Lk-5asU",
    "outputId": "44561c78-ad0a-463d-ac4a-facad7404705"
   },
   "outputs": [
    {
     "data": {
      "text/plain": [
       "(12294, 7)"
      ]
     },
     "execution_count": 8,
     "metadata": {},
     "output_type": "execute_result"
    }
   ],
   "source": [
    "anime_df.shape"
   ]
  },
  {
   "cell_type": "code",
   "execution_count": 9,
   "metadata": {
    "colab": {
     "base_uri": "https://localhost:8080/"
    },
    "executionInfo": {
     "elapsed": 15,
     "status": "ok",
     "timestamp": 1631532119208,
     "user": {
      "displayName": "anonymous anwicgh",
      "photoUrl": "https://lh3.googleusercontent.com/a-/AOh14Gj2JkB8jOGL-4H5v3uEQ2ReXFEl47PMFD7v3Lsr=s64",
      "userId": "09312410064248870968"
     },
     "user_tz": -330
    },
    "id": "XPyoBUNh5jrD",
    "outputId": "6d08d706-d9c3-41c3-df2f-c609276d6d51"
   },
   "outputs": [
    {
     "data": {
      "text/plain": [
       "(7813737, 3)"
      ]
     },
     "execution_count": 9,
     "metadata": {},
     "output_type": "execute_result"
    }
   ],
   "source": [
    "rating_df.shape"
   ]
  },
  {
   "cell_type": "code",
   "execution_count": 10,
   "metadata": {
    "colab": {
     "base_uri": "https://localhost:8080/"
    },
    "executionInfo": {
     "elapsed": 11,
     "status": "ok",
     "timestamp": 1631532119210,
     "user": {
      "displayName": "anonymous anwicgh",
      "photoUrl": "https://lh3.googleusercontent.com/a-/AOh14Gj2JkB8jOGL-4H5v3uEQ2ReXFEl47PMFD7v3Lsr=s64",
      "userId": "09312410064248870968"
     },
     "user_tz": -330
    },
    "id": "KufLhbSt5v9J",
    "outputId": "29d08b60-21c1-4a05-83a8-6ea5130b3695"
   },
   "outputs": [
    {
     "name": "stdout",
     "output_type": "stream",
     "text": [
      "<class 'pandas.core.frame.DataFrame'>\n",
      "RangeIndex: 12294 entries, 0 to 12293\n",
      "Data columns (total 7 columns):\n",
      " #   Column    Non-Null Count  Dtype  \n",
      "---  ------    --------------  -----  \n",
      " 0   anime_id  12294 non-null  int64  \n",
      " 1   name      12294 non-null  object \n",
      " 2   genre     12232 non-null  object \n",
      " 3   type      12269 non-null  object \n",
      " 4   episodes  12294 non-null  object \n",
      " 5   rating    12064 non-null  float64\n",
      " 6   members   12294 non-null  int64  \n",
      "dtypes: float64(1), int64(2), object(4)\n",
      "memory usage: 672.5+ KB\n"
     ]
    }
   ],
   "source": [
    "anime_df.info()"
   ]
  },
  {
   "cell_type": "code",
   "execution_count": null,
   "metadata": {
    "executionInfo": {
     "elapsed": 5,
     "status": "ok",
     "timestamp": 1631532119744,
     "user": {
      "displayName": "anonymous anwicgh",
      "photoUrl": "https://lh3.googleusercontent.com/a-/AOh14Gj2JkB8jOGL-4H5v3uEQ2ReXFEl47PMFD7v3Lsr=s64",
      "userId": "09312410064248870968"
     },
     "user_tz": -330
    },
    "id": "yOiWJCkAlFC3"
   },
   "outputs": [],
   "source": []
  },
  {
   "cell_type": "code",
   "execution_count": 11,
   "metadata": {
    "executionInfo": {
     "elapsed": 478,
     "status": "ok",
     "timestamp": 1631532122993,
     "user": {
      "displayName": "anonymous anwicgh",
      "photoUrl": "https://lh3.googleusercontent.com/a-/AOh14Gj2JkB8jOGL-4H5v3uEQ2ReXFEl47PMFD7v3Lsr=s64",
      "userId": "09312410064248870968"
     },
     "user_tz": -330
    },
    "id": "gIC8codkAnQi"
   },
   "outputs": [],
   "source": [
    "def weighted_rating(v,m,R,C):\n",
    "  return ( (v / (v + m)) * R) + ( (m / (v + m)) * C )\n",
    "def assign_popular_based_score(rating):\n",
    "    filter_rating = rating_df[rating['rating'] != -1]\n",
    "    vote_count = filter_rating.groupby('anime_id',as_index=False).agg({'user_id':'count', 'rating':'mean'})\n",
    "    vote_count.columns = ['anime_id','vote_count', 'avg_rating']\n",
    "    \n",
    "    # calcuate input parameters\n",
    "    C = np.mean(vote_count['avg_rating'])\n",
    "    m = np.percentile(vote_count['vote_count'], 70)\n",
    "    vote_count = vote_count[vote_count['vote_count'] >= m]\n",
    "    R = vote_count['avg_rating']\n",
    "    v = vote_count['vote_count']\n",
    "    vote_count['weighted_rating'] = weighted_rating(v,m,R,C)\n",
    "    \n",
    "    # post processing\n",
    "    vote_count = vote_count.merge(anime_df[['anime_id','name']],on=['anime_id'],how='left')\n",
    "    vote_count = vote_count.drop('anime_id', axis=1)\n",
    "    popular_anime = vote_count.loc[:,['name', 'vote_count', 'avg_rating', 'weighted_rating']]\n",
    "    \n",
    "    return popular_anime"
   ]
  },
  {
   "cell_type": "code",
   "execution_count": 12,
   "metadata": {
    "executionInfo": {
     "elapsed": 638,
     "status": "ok",
     "timestamp": 1631532125885,
     "user": {
      "displayName": "anonymous anwicgh",
      "photoUrl": "https://lh3.googleusercontent.com/a-/AOh14Gj2JkB8jOGL-4H5v3uEQ2ReXFEl47PMFD7v3Lsr=s64",
      "userId": "09312410064248870968"
     },
     "user_tz": -330
    },
    "id": "R3GZTOP6nYNf"
   },
   "outputs": [],
   "source": [
    "popular_anime = assign_popular_based_score(rating_df)"
   ]
  },
  {
   "cell_type": "code",
   "execution_count": 13,
   "metadata": {
    "colab": {
     "base_uri": "https://localhost:8080/",
     "height": 280
    },
    "executionInfo": {
     "elapsed": 726,
     "status": "ok",
     "timestamp": 1631530310264,
     "user": {
      "displayName": "anonymous anwicgh",
      "photoUrl": "https://lh3.googleusercontent.com/a-/AOh14Gj2JkB8jOGL-4H5v3uEQ2ReXFEl47PMFD7v3Lsr=s64",
      "userId": "09312410064248870968"
     },
     "user_tz": -330
    },
    "id": "E2VYVf3cnesN",
    "outputId": "639399fb-b2ce-459f-9810-53e4bbbff17e"
   },
   "outputs": [
    {
     "data": {
      "image/png": "[encoded data removed]",
      "text/plain": [
       "<Figure size 432x288 with 1 Axes>"
      ]
     },
     "metadata": {
      "needs_background": "light"
     },
     "output_type": "display_data"
    }
   ],
   "source": [
    "sns.barplot(data = popular_anime.sort_values('vote_count',ascending=False).head(10),\n",
    "            x = 'vote_count', y = 'name', palette='mako');\n",
    "sns.despine()"
   ]
  },
  {
   "cell_type": "code",
   "execution_count": 16,
   "metadata": {
    "colab": {
     "base_uri": "https://localhost:8080/"
    },
    "executionInfo": {
     "elapsed": 463,
     "status": "ok",
     "timestamp": 1631532184149,
     "user": {
      "displayName": "anonymous anwicgh",
      "photoUrl": "https://lh3.googleusercontent.com/a-/AOh14Gj2JkB8jOGL-4H5v3uEQ2ReXFEl47PMFD7v3Lsr=s64",
      "userId": "09312410064248870968"
     },
     "user_tz": -330
    },
    "id": "e4Ol26JDoPOl",
    "outputId": "687dd668-ae0d-4ac3-b32d-a5e5331c94c6"
   },
   "outputs": [
    {
     "data": {
      "text/plain": [
       "name\n",
       "Kimi no Na wa.                      0\n",
       "Fullmetal Alchemist: Brotherhood    1\n",
       "Gintama°                            2\n",
       "Steins;Gate                         3\n",
       "Gintama&#039;                       4\n",
       "dtype: int64"
      ]
     },
     "execution_count": 16,
     "metadata": {},
     "output_type": "execute_result"
    }
   ],
   "source": [
    "anime_index = pd.Series(anime_df.index, index=anime_df.name)\n",
    "anime_index.head()"
   ]
  },
  {
   "cell_type": "code",
   "execution_count": 17,
   "metadata": {
    "colab": {
     "base_uri": "https://localhost:8080/",
     "height": 203
    },
    "executionInfo": {
     "elapsed": 11,
     "status": "ok",
     "timestamp": 1631532186545,
     "user": {
      "displayName": "anonymous anwicgh",
      "photoUrl": "https://lh3.googleusercontent.com/a-/AOh14Gj2JkB8jOGL-4H5v3uEQ2ReXFEl47PMFD7v3Lsr=s64",
      "userId": "09312410064248870968"
     },
     "user_tz": -330
    },
    "id": "uhVQiOs5pj99",
    "outputId": "cde1c165-c7c5-4b6f-b31e-aa86cf2d685f"
   },
   "outputs": [
    {
     "data": {
      "text/html": [
       "<div>\n",
       "<style scoped>\n",
       "    .dataframe tbody tr th:only-of-type {\n",
       "        vertical-align: middle;\n",
       "    }\n",
       "\n",
       "    .dataframe tbody tr th {\n",
       "        vertical-align: top;\n",
       "    }\n",
       "\n",
       "    .dataframe thead th {\n",
       "        text-align: right;\n",
       "    }\n",
       "</style>\n",
       "<table border=\"1\" class=\"dataframe\">\n",
       "  <thead>\n",
       "    <tr style=\"text-align: right;\">\n",
       "      <th></th>\n",
       "      <th>user_id</th>\n",
       "      <th>anime_id</th>\n",
       "      <th>rating</th>\n",
       "    </tr>\n",
       "  </thead>\n",
       "  <tbody>\n",
       "    <tr>\n",
       "      <th>0</th>\n",
       "      <td>1</td>\n",
       "      <td>20</td>\n",
       "      <td>NaN</td>\n",
       "    </tr>\n",
       "    <tr>\n",
       "      <th>1</th>\n",
       "      <td>1</td>\n",
       "      <td>24</td>\n",
       "      <td>NaN</td>\n",
       "    </tr>\n",
       "    <tr>\n",
       "      <th>2</th>\n",
       "      <td>1</td>\n",
       "      <td>79</td>\n",
       "      <td>NaN</td>\n",
       "    </tr>\n",
       "    <tr>\n",
       "      <th>3</th>\n",
       "      <td>1</td>\n",
       "      <td>226</td>\n",
       "      <td>NaN</td>\n",
       "    </tr>\n",
       "    <tr>\n",
       "      <th>4</th>\n",
       "      <td>1</td>\n",
       "      <td>241</td>\n",
       "      <td>NaN</td>\n",
       "    </tr>\n",
       "  </tbody>\n",
       "</table>\n",
       "</div>"
      ],
      "text/plain": [
       "   user_id  anime_id  rating\n",
       "0        1        20     NaN\n",
       "1        1        24     NaN\n",
       "2        1        79     NaN\n",
       "3        1       226     NaN\n",
       "4        1       241     NaN"
      ]
     },
     "execution_count": 17,
     "metadata": {},
     "output_type": "execute_result"
    }
   ],
   "source": [
    "rating_df.loc[rating_df.rating == -1, 'rating'] = np.NaN\n",
    "rating_df.head()"
   ]
  },
  {
   "cell_type": "code",
   "execution_count": 18,
   "metadata": {
    "colab": {
     "base_uri": "https://localhost:8080/",
     "height": 203
    },
    "executionInfo": {
     "elapsed": 2196,
     "status": "ok",
     "timestamp": 1631532192282,
     "user": {
      "displayName": "anonymous anwicgh",
      "photoUrl": "https://lh3.googleusercontent.com/a-/AOh14Gj2JkB8jOGL-4H5v3uEQ2ReXFEl47PMFD7v3Lsr=s64",
      "userId": "09312410064248870968"
     },
     "user_tz": -330
    },
    "id": "Xbth1YZ7x7ZY",
    "outputId": "295bb66d-02a6-43a7-80dc-7553cf56f108"
   },
   "outputs": [
    {
     "data": {
      "text/html": [
       "<div>\n",
       "<style scoped>\n",
       "    .dataframe tbody tr th:only-of-type {\n",
       "        vertical-align: middle;\n",
       "    }\n",
       "\n",
       "    .dataframe tbody tr th {\n",
       "        vertical-align: top;\n",
       "    }\n",
       "\n",
       "    .dataframe thead th {\n",
       "        text-align: right;\n",
       "    }\n",
       "</style>\n",
       "<table border=\"1\" class=\"dataframe\">\n",
       "  <thead>\n",
       "    <tr style=\"text-align: right;\">\n",
       "      <th></th>\n",
       "      <th>anime_id</th>\n",
       "      <th>name</th>\n",
       "      <th>genre</th>\n",
       "      <th>type</th>\n",
       "      <th>episodes</th>\n",
       "      <th>rating_x</th>\n",
       "      <th>members</th>\n",
       "      <th>user_id</th>\n",
       "      <th>rating_y</th>\n",
       "    </tr>\n",
       "  </thead>\n",
       "  <tbody>\n",
       "    <tr>\n",
       "      <th>0</th>\n",
       "      <td>32281</td>\n",
       "      <td>Kimi no Na wa.</td>\n",
       "      <td>Drama, Romance, School, Supernatural</td>\n",
       "      <td>Movie</td>\n",
       "      <td>1</td>\n",
       "      <td>9.37</td>\n",
       "      <td>200630</td>\n",
       "      <td>99</td>\n",
       "      <td>5.0</td>\n",
       "    </tr>\n",
       "    <tr>\n",
       "      <th>1</th>\n",
       "      <td>32281</td>\n",
       "      <td>Kimi no Na wa.</td>\n",
       "      <td>Drama, Romance, School, Supernatural</td>\n",
       "      <td>Movie</td>\n",
       "      <td>1</td>\n",
       "      <td>9.37</td>\n",
       "      <td>200630</td>\n",
       "      <td>152</td>\n",
       "      <td>10.0</td>\n",
       "    </tr>\n",
       "    <tr>\n",
       "      <th>2</th>\n",
       "      <td>32281</td>\n",
       "      <td>Kimi no Na wa.</td>\n",
       "      <td>Drama, Romance, School, Supernatural</td>\n",
       "      <td>Movie</td>\n",
       "      <td>1</td>\n",
       "      <td>9.37</td>\n",
       "      <td>200630</td>\n",
       "      <td>244</td>\n",
       "      <td>10.0</td>\n",
       "    </tr>\n",
       "    <tr>\n",
       "      <th>3</th>\n",
       "      <td>32281</td>\n",
       "      <td>Kimi no Na wa.</td>\n",
       "      <td>Drama, Romance, School, Supernatural</td>\n",
       "      <td>Movie</td>\n",
       "      <td>1</td>\n",
       "      <td>9.37</td>\n",
       "      <td>200630</td>\n",
       "      <td>271</td>\n",
       "      <td>10.0</td>\n",
       "    </tr>\n",
       "    <tr>\n",
       "      <th>4</th>\n",
       "      <td>32281</td>\n",
       "      <td>Kimi no Na wa.</td>\n",
       "      <td>Drama, Romance, School, Supernatural</td>\n",
       "      <td>Movie</td>\n",
       "      <td>1</td>\n",
       "      <td>9.37</td>\n",
       "      <td>200630</td>\n",
       "      <td>278</td>\n",
       "      <td>NaN</td>\n",
       "    </tr>\n",
       "  </tbody>\n",
       "</table>\n",
       "</div>"
      ],
      "text/plain": [
       "   anime_id            name                                 genre   type  \\\n",
       "0     32281  Kimi no Na wa.  Drama, Romance, School, Supernatural  Movie   \n",
       "1     32281  Kimi no Na wa.  Drama, Romance, School, Supernatural  Movie   \n",
       "2     32281  Kimi no Na wa.  Drama, Romance, School, Supernatural  Movie   \n",
       "3     32281  Kimi no Na wa.  Drama, Romance, School, Supernatural  Movie   \n",
       "4     32281  Kimi no Na wa.  Drama, Romance, School, Supernatural  Movie   \n",
       "\n",
       "  episodes  rating_x  members  user_id  rating_y  \n",
       "0        1      9.37   200630       99       5.0  \n",
       "1        1      9.37   200630      152      10.0  \n",
       "2        1      9.37   200630      244      10.0  \n",
       "3        1      9.37   200630      271      10.0  \n",
       "4        1      9.37   200630      278       NaN  "
      ]
     },
     "execution_count": 18,
     "metadata": {},
     "output_type": "execute_result"
    }
   ],
   "source": [
    "joined = anime_df.merge(rating_df, how='inner', on='anime_id')\n",
    "joined.head()"
   ]
  },
  {
   "cell_type": "code",
   "execution_count": 19,
   "metadata": {
    "colab": {
     "base_uri": "https://localhost:8080/"
    },
    "executionInfo": {
     "elapsed": 10,
     "status": "ok",
     "timestamp": 1631532192283,
     "user": {
      "displayName": "anonymous anwicgh",
      "photoUrl": "https://lh3.googleusercontent.com/a-/AOh14Gj2JkB8jOGL-4H5v3uEQ2ReXFEl47PMFD7v3Lsr=s64",
      "userId": "09312410064248870968"
     },
     "user_tz": -330
    },
    "id": "ZZYKTRd2yf2F",
    "outputId": "dac29dca-a59d-4c4e-c190-20cbd8b2be81"
   },
   "outputs": [
    {
     "data": {
      "text/plain": [
       "(209791, 9)"
      ]
     },
     "execution_count": 19,
     "metadata": {},
     "output_type": "execute_result"
    }
   ],
   "source": [
    "m = joined['members'].quantile(0.80)\n",
    "joined = joined[(joined['members'] >= m)]\n",
    "joined = joined[(joined['user_id'] <= 10000)]\n",
    "joined.shape"
   ]
  },
  {
   "cell_type": "code",
   "execution_count": 20,
   "metadata": {
    "colab": {
     "base_uri": "https://localhost:8080/",
     "height": 383
    },
    "executionInfo": {
     "elapsed": 640,
     "status": "ok",
     "timestamp": 1631532192917,
     "user": {
      "displayName": "anonymous anwicgh",
      "photoUrl": "https://lh3.googleusercontent.com/a-/AOh14Gj2JkB8jOGL-4H5v3uEQ2ReXFEl47PMFD7v3Lsr=s64",
      "userId": "09312410064248870968"
     },
     "user_tz": -330
    },
    "id": "t_NtKsbvzP39",
    "outputId": "f078890c-5e82-467e-e180-6e46532e61d6"
   },
   "outputs": [
    {
     "data": {
      "text/html": [
       "<div>\n",
       "<style scoped>\n",
       "    .dataframe tbody tr th:only-of-type {\n",
       "        vertical-align: middle;\n",
       "    }\n",
       "\n",
       "    .dataframe tbody tr th {\n",
       "        vertical-align: top;\n",
       "    }\n",
       "\n",
       "    .dataframe thead th {\n",
       "        text-align: right;\n",
       "    }\n",
       "</style>\n",
       "<table border=\"1\" class=\"dataframe\">\n",
       "  <thead>\n",
       "    <tr style=\"text-align: right;\">\n",
       "      <th>name</th>\n",
       "      <th>Accel World</th>\n",
       "      <th>Akame ga Kill!</th>\n",
       "      <th>Angel Beats!</th>\n",
       "      <th>Ano Hi Mita Hana no Namae wo Bokutachi wa Mada Shiranai.</th>\n",
       "      <th>Another</th>\n",
       "      <th>Ansatsu Kyoushitsu (TV)</th>\n",
       "      <th>Ao no Exorcist</th>\n",
       "      <th>Baccano!</th>\n",
       "      <th>Baka to Test to Shoukanjuu</th>\n",
       "      <th>Bakemonogatari</th>\n",
       "      <th>...</th>\n",
       "      <th>Sword Art Online II</th>\n",
       "      <th>Tengen Toppa Gurren Lagann</th>\n",
       "      <th>Toaru Majutsu no Index</th>\n",
       "      <th>Tokyo Ghoul</th>\n",
       "      <th>Tokyo Ghoul √A</th>\n",
       "      <th>Tonari no Kaibutsu-kun</th>\n",
       "      <th>Toradora!</th>\n",
       "      <th>Yahari Ore no Seishun Love Comedy wa Machigatteiru.</th>\n",
       "      <th>Zankyou no Terror</th>\n",
       "      <th>Zero no Tsukaima</th>\n",
       "    </tr>\n",
       "    <tr>\n",
       "      <th>user_id</th>\n",
       "      <th></th>\n",
       "      <th></th>\n",
       "      <th></th>\n",
       "      <th></th>\n",
       "      <th></th>\n",
       "      <th></th>\n",
       "      <th></th>\n",
       "      <th></th>\n",
       "      <th></th>\n",
       "      <th></th>\n",
       "      <th></th>\n",
       "      <th></th>\n",
       "      <th></th>\n",
       "      <th></th>\n",
       "      <th></th>\n",
       "      <th></th>\n",
       "      <th></th>\n",
       "      <th></th>\n",
       "      <th></th>\n",
       "      <th></th>\n",
       "      <th></th>\n",
       "    </tr>\n",
       "  </thead>\n",
       "  <tbody>\n",
       "    <tr>\n",
       "      <th>1</th>\n",
       "      <td>NaN</td>\n",
       "      <td>NaN</td>\n",
       "      <td>NaN</td>\n",
       "      <td>NaN</td>\n",
       "      <td>NaN</td>\n",
       "      <td>NaN</td>\n",
       "      <td>NaN</td>\n",
       "      <td>NaN</td>\n",
       "      <td>NaN</td>\n",
       "      <td>NaN</td>\n",
       "      <td>...</td>\n",
       "      <td>NaN</td>\n",
       "      <td>NaN</td>\n",
       "      <td>NaN</td>\n",
       "      <td>NaN</td>\n",
       "      <td>NaN</td>\n",
       "      <td>NaN</td>\n",
       "      <td>NaN</td>\n",
       "      <td>NaN</td>\n",
       "      <td>NaN</td>\n",
       "      <td>NaN</td>\n",
       "    </tr>\n",
       "    <tr>\n",
       "      <th>2</th>\n",
       "      <td>NaN</td>\n",
       "      <td>NaN</td>\n",
       "      <td>NaN</td>\n",
       "      <td>NaN</td>\n",
       "      <td>NaN</td>\n",
       "      <td>NaN</td>\n",
       "      <td>NaN</td>\n",
       "      <td>NaN</td>\n",
       "      <td>NaN</td>\n",
       "      <td>NaN</td>\n",
       "      <td>...</td>\n",
       "      <td>NaN</td>\n",
       "      <td>NaN</td>\n",
       "      <td>NaN</td>\n",
       "      <td>NaN</td>\n",
       "      <td>NaN</td>\n",
       "      <td>NaN</td>\n",
       "      <td>NaN</td>\n",
       "      <td>NaN</td>\n",
       "      <td>NaN</td>\n",
       "      <td>NaN</td>\n",
       "    </tr>\n",
       "    <tr>\n",
       "      <th>3</th>\n",
       "      <td>7.0</td>\n",
       "      <td>8.0</td>\n",
       "      <td>NaN</td>\n",
       "      <td>10.0</td>\n",
       "      <td>8.0</td>\n",
       "      <td>NaN</td>\n",
       "      <td>8.0</td>\n",
       "      <td>NaN</td>\n",
       "      <td>NaN</td>\n",
       "      <td>NaN</td>\n",
       "      <td>...</td>\n",
       "      <td>7.0</td>\n",
       "      <td>NaN</td>\n",
       "      <td>NaN</td>\n",
       "      <td>6.0</td>\n",
       "      <td>8.0</td>\n",
       "      <td>NaN</td>\n",
       "      <td>NaN</td>\n",
       "      <td>NaN</td>\n",
       "      <td>NaN</td>\n",
       "      <td>NaN</td>\n",
       "    </tr>\n",
       "    <tr>\n",
       "      <th>5</th>\n",
       "      <td>3.0</td>\n",
       "      <td>4.0</td>\n",
       "      <td>3.0</td>\n",
       "      <td>7.0</td>\n",
       "      <td>NaN</td>\n",
       "      <td>NaN</td>\n",
       "      <td>4.0</td>\n",
       "      <td>NaN</td>\n",
       "      <td>1.0</td>\n",
       "      <td>NaN</td>\n",
       "      <td>...</td>\n",
       "      <td>NaN</td>\n",
       "      <td>NaN</td>\n",
       "      <td>6.0</td>\n",
       "      <td>2.0</td>\n",
       "      <td>2.0</td>\n",
       "      <td>2.0</td>\n",
       "      <td>3.0</td>\n",
       "      <td>3.0</td>\n",
       "      <td>NaN</td>\n",
       "      <td>1.0</td>\n",
       "    </tr>\n",
       "    <tr>\n",
       "      <th>7</th>\n",
       "      <td>8.0</td>\n",
       "      <td>NaN</td>\n",
       "      <td>NaN</td>\n",
       "      <td>NaN</td>\n",
       "      <td>NaN</td>\n",
       "      <td>NaN</td>\n",
       "      <td>NaN</td>\n",
       "      <td>NaN</td>\n",
       "      <td>NaN</td>\n",
       "      <td>NaN</td>\n",
       "      <td>...</td>\n",
       "      <td>6.0</td>\n",
       "      <td>NaN</td>\n",
       "      <td>9.0</td>\n",
       "      <td>NaN</td>\n",
       "      <td>NaN</td>\n",
       "      <td>NaN</td>\n",
       "      <td>NaN</td>\n",
       "      <td>NaN</td>\n",
       "      <td>NaN</td>\n",
       "      <td>NaN</td>\n",
       "    </tr>\n",
       "  </tbody>\n",
       "</table>\n",
       "<p>5 rows × 104 columns</p>\n",
       "</div>"
      ],
      "text/plain": [
       "name     Accel World  Akame ga Kill!  Angel Beats!  \\\n",
       "user_id                                              \n",
       "1                NaN             NaN           NaN   \n",
       "2                NaN             NaN           NaN   \n",
       "3                7.0             8.0           NaN   \n",
       "5                3.0             4.0           3.0   \n",
       "7                8.0             NaN           NaN   \n",
       "\n",
       "name     Ano Hi Mita Hana no Namae wo Bokutachi wa Mada Shiranai.  Another  \\\n",
       "user_id                                                                      \n",
       "1                                                      NaN             NaN   \n",
       "2                                                      NaN             NaN   \n",
       "3                                                     10.0             8.0   \n",
       "5                                                      7.0             NaN   \n",
       "7                                                      NaN             NaN   \n",
       "\n",
       "name     Ansatsu Kyoushitsu (TV)  Ao no Exorcist  Baccano!  \\\n",
       "user_id                                                      \n",
       "1                            NaN             NaN       NaN   \n",
       "2                            NaN             NaN       NaN   \n",
       "3                            NaN             8.0       NaN   \n",
       "5                            NaN             4.0       NaN   \n",
       "7                            NaN             NaN       NaN   \n",
       "\n",
       "name     Baka to Test to Shoukanjuu  Bakemonogatari  ...  Sword Art Online II  \\\n",
       "user_id                                              ...                        \n",
       "1                               NaN             NaN  ...                  NaN   \n",
       "2                               NaN             NaN  ...                  NaN   \n",
       "3                               NaN             NaN  ...                  7.0   \n",
       "5                               1.0             NaN  ...                  NaN   \n",
       "7                               NaN             NaN  ...                  6.0   \n",
       "\n",
       "name     Tengen Toppa Gurren Lagann  Toaru Majutsu no Index  Tokyo Ghoul  \\\n",
       "user_id                                                                    \n",
       "1                               NaN                     NaN          NaN   \n",
       "2                               NaN                     NaN          NaN   \n",
       "3                               NaN                     NaN          6.0   \n",
       "5                               NaN                     6.0          2.0   \n",
       "7                               NaN                     9.0          NaN   \n",
       "\n",
       "name     Tokyo Ghoul √A  Tonari no Kaibutsu-kun  Toradora!  \\\n",
       "user_id                                                      \n",
       "1                   NaN                     NaN        NaN   \n",
       "2                   NaN                     NaN        NaN   \n",
       "3                   8.0                     NaN        NaN   \n",
       "5                   2.0                     2.0        3.0   \n",
       "7                   NaN                     NaN        NaN   \n",
       "\n",
       "name     Yahari Ore no Seishun Love Comedy wa Machigatteiru.  \\\n",
       "user_id                                                        \n",
       "1                                                      NaN     \n",
       "2                                                      NaN     \n",
       "3                                                      NaN     \n",
       "5                                                      3.0     \n",
       "7                                                      NaN     \n",
       "\n",
       "name     Zankyou no Terror  Zero no Tsukaima  \n",
       "user_id                                       \n",
       "1                      NaN               NaN  \n",
       "2                      NaN               NaN  \n",
       "3                      NaN               NaN  \n",
       "5                      NaN               1.0  \n",
       "7                      NaN               NaN  \n",
       "\n",
       "[5 rows x 104 columns]"
      ]
     },
     "execution_count": 20,
     "metadata": {},
     "output_type": "execute_result"
    }
   ],
   "source": [
    "pivot = pd.pivot_table(joined, index='user_id', columns='name', values='rating_y')\n",
    "pivot.dropna(axis=0, how='all', inplace=True)\n",
    "pivot.head()"
   ]
  },
  {
   "cell_type": "code",
   "execution_count": 21,
   "metadata": {
    "colab": {
     "base_uri": "https://localhost:8080/"
    },
    "executionInfo": {
     "elapsed": 19,
     "status": "ok",
     "timestamp": 1631532192919,
     "user": {
      "displayName": "anonymous anwicgh",
      "photoUrl": "https://lh3.googleusercontent.com/a-/AOh14Gj2JkB8jOGL-4H5v3uEQ2ReXFEl47PMFD7v3Lsr=s64",
      "userId": "09312410064248870968"
     },
     "user_tz": -330
    },
    "id": "G1YgfJyC0TzI",
    "outputId": "680ba4c3-d247-4d13-c560-bea71beed407"
   },
   "outputs": [
    {
     "data": {
      "text/plain": [
       "(8967, 104)"
      ]
     },
     "execution_count": 21,
     "metadata": {},
     "output_type": "execute_result"
    }
   ],
   "source": [
    "pivot.shape"
   ]
  },
  {
   "cell_type": "code",
   "execution_count": 22,
   "metadata": {
    "colab": {
     "base_uri": "https://localhost:8080/",
     "height": 383
    },
    "executionInfo": {
     "elapsed": 15,
     "status": "ok",
     "timestamp": 1631532192920,
     "user": {
      "displayName": "anonymous anwicgh",
      "photoUrl": "https://lh3.googleusercontent.com/a-/AOh14Gj2JkB8jOGL-4H5v3uEQ2ReXFEl47PMFD7v3Lsr=s64",
      "userId": "09312410064248870968"
     },
     "user_tz": -330
    },
    "id": "Xt-ppeVI0hGp",
    "outputId": "d0374b60-1bee-4b4d-f4fc-c2a2c1ec00a9"
   },
   "outputs": [
    {
     "data": {
      "text/html": [
       "<div>\n",
       "<style scoped>\n",
       "    .dataframe tbody tr th:only-of-type {\n",
       "        vertical-align: middle;\n",
       "    }\n",
       "\n",
       "    .dataframe tbody tr th {\n",
       "        vertical-align: top;\n",
       "    }\n",
       "\n",
       "    .dataframe thead th {\n",
       "        text-align: right;\n",
       "    }\n",
       "</style>\n",
       "<table border=\"1\" class=\"dataframe\">\n",
       "  <thead>\n",
       "    <tr style=\"text-align: right;\">\n",
       "      <th>name</th>\n",
       "      <th>Accel World</th>\n",
       "      <th>Akame ga Kill!</th>\n",
       "      <th>Angel Beats!</th>\n",
       "      <th>Ano Hi Mita Hana no Namae wo Bokutachi wa Mada Shiranai.</th>\n",
       "      <th>Another</th>\n",
       "      <th>Ansatsu Kyoushitsu (TV)</th>\n",
       "      <th>Ao no Exorcist</th>\n",
       "      <th>Baccano!</th>\n",
       "      <th>Baka to Test to Shoukanjuu</th>\n",
       "      <th>Bakemonogatari</th>\n",
       "      <th>...</th>\n",
       "      <th>Sword Art Online II</th>\n",
       "      <th>Tengen Toppa Gurren Lagann</th>\n",
       "      <th>Toaru Majutsu no Index</th>\n",
       "      <th>Tokyo Ghoul</th>\n",
       "      <th>Tokyo Ghoul √A</th>\n",
       "      <th>Tonari no Kaibutsu-kun</th>\n",
       "      <th>Toradora!</th>\n",
       "      <th>Yahari Ore no Seishun Love Comedy wa Machigatteiru.</th>\n",
       "      <th>Zankyou no Terror</th>\n",
       "      <th>Zero no Tsukaima</th>\n",
       "    </tr>\n",
       "    <tr>\n",
       "      <th>user_id</th>\n",
       "      <th></th>\n",
       "      <th></th>\n",
       "      <th></th>\n",
       "      <th></th>\n",
       "      <th></th>\n",
       "      <th></th>\n",
       "      <th></th>\n",
       "      <th></th>\n",
       "      <th></th>\n",
       "      <th></th>\n",
       "      <th></th>\n",
       "      <th></th>\n",
       "      <th></th>\n",
       "      <th></th>\n",
       "      <th></th>\n",
       "      <th></th>\n",
       "      <th></th>\n",
       "      <th></th>\n",
       "      <th></th>\n",
       "      <th></th>\n",
       "      <th></th>\n",
       "    </tr>\n",
       "  </thead>\n",
       "  <tbody>\n",
       "    <tr>\n",
       "      <th>1</th>\n",
       "      <td>0.0</td>\n",
       "      <td>0.0</td>\n",
       "      <td>0.0</td>\n",
       "      <td>0.0</td>\n",
       "      <td>0.0</td>\n",
       "      <td>0.0</td>\n",
       "      <td>0.0</td>\n",
       "      <td>0.0</td>\n",
       "      <td>0.0</td>\n",
       "      <td>0.0</td>\n",
       "      <td>...</td>\n",
       "      <td>0.0</td>\n",
       "      <td>0.0</td>\n",
       "      <td>0.0</td>\n",
       "      <td>0.0</td>\n",
       "      <td>0.0</td>\n",
       "      <td>0.0</td>\n",
       "      <td>0.0</td>\n",
       "      <td>0.0</td>\n",
       "      <td>0.0</td>\n",
       "      <td>0.0</td>\n",
       "    </tr>\n",
       "    <tr>\n",
       "      <th>2</th>\n",
       "      <td>0.0</td>\n",
       "      <td>0.0</td>\n",
       "      <td>0.0</td>\n",
       "      <td>0.0</td>\n",
       "      <td>0.0</td>\n",
       "      <td>0.0</td>\n",
       "      <td>0.0</td>\n",
       "      <td>0.0</td>\n",
       "      <td>0.0</td>\n",
       "      <td>0.0</td>\n",
       "      <td>...</td>\n",
       "      <td>0.0</td>\n",
       "      <td>0.0</td>\n",
       "      <td>0.0</td>\n",
       "      <td>0.0</td>\n",
       "      <td>0.0</td>\n",
       "      <td>0.0</td>\n",
       "      <td>0.0</td>\n",
       "      <td>0.0</td>\n",
       "      <td>0.0</td>\n",
       "      <td>0.0</td>\n",
       "    </tr>\n",
       "    <tr>\n",
       "      <th>3</th>\n",
       "      <td>7.0</td>\n",
       "      <td>8.0</td>\n",
       "      <td>0.0</td>\n",
       "      <td>10.0</td>\n",
       "      <td>8.0</td>\n",
       "      <td>0.0</td>\n",
       "      <td>8.0</td>\n",
       "      <td>0.0</td>\n",
       "      <td>0.0</td>\n",
       "      <td>0.0</td>\n",
       "      <td>...</td>\n",
       "      <td>7.0</td>\n",
       "      <td>0.0</td>\n",
       "      <td>0.0</td>\n",
       "      <td>6.0</td>\n",
       "      <td>8.0</td>\n",
       "      <td>0.0</td>\n",
       "      <td>0.0</td>\n",
       "      <td>0.0</td>\n",
       "      <td>0.0</td>\n",
       "      <td>0.0</td>\n",
       "    </tr>\n",
       "    <tr>\n",
       "      <th>5</th>\n",
       "      <td>3.0</td>\n",
       "      <td>4.0</td>\n",
       "      <td>3.0</td>\n",
       "      <td>7.0</td>\n",
       "      <td>0.0</td>\n",
       "      <td>0.0</td>\n",
       "      <td>4.0</td>\n",
       "      <td>0.0</td>\n",
       "      <td>1.0</td>\n",
       "      <td>0.0</td>\n",
       "      <td>...</td>\n",
       "      <td>0.0</td>\n",
       "      <td>0.0</td>\n",
       "      <td>6.0</td>\n",
       "      <td>2.0</td>\n",
       "      <td>2.0</td>\n",
       "      <td>2.0</td>\n",
       "      <td>3.0</td>\n",
       "      <td>3.0</td>\n",
       "      <td>0.0</td>\n",
       "      <td>1.0</td>\n",
       "    </tr>\n",
       "    <tr>\n",
       "      <th>7</th>\n",
       "      <td>8.0</td>\n",
       "      <td>0.0</td>\n",
       "      <td>0.0</td>\n",
       "      <td>0.0</td>\n",
       "      <td>0.0</td>\n",
       "      <td>0.0</td>\n",
       "      <td>0.0</td>\n",
       "      <td>0.0</td>\n",
       "      <td>0.0</td>\n",
       "      <td>0.0</td>\n",
       "      <td>...</td>\n",
       "      <td>6.0</td>\n",
       "      <td>0.0</td>\n",
       "      <td>9.0</td>\n",
       "      <td>0.0</td>\n",
       "      <td>0.0</td>\n",
       "      <td>0.0</td>\n",
       "      <td>0.0</td>\n",
       "      <td>0.0</td>\n",
       "      <td>0.0</td>\n",
       "      <td>0.0</td>\n",
       "    </tr>\n",
       "  </tbody>\n",
       "</table>\n",
       "<p>5 rows × 104 columns</p>\n",
       "</div>"
      ],
      "text/plain": [
       "name     Accel World  Akame ga Kill!  Angel Beats!  \\\n",
       "user_id                                              \n",
       "1                0.0             0.0           0.0   \n",
       "2                0.0             0.0           0.0   \n",
       "3                7.0             8.0           0.0   \n",
       "5                3.0             4.0           3.0   \n",
       "7                8.0             0.0           0.0   \n",
       "\n",
       "name     Ano Hi Mita Hana no Namae wo Bokutachi wa Mada Shiranai.  Another  \\\n",
       "user_id                                                                      \n",
       "1                                                      0.0             0.0   \n",
       "2                                                      0.0             0.0   \n",
       "3                                                     10.0             8.0   \n",
       "5                                                      7.0             0.0   \n",
       "7                                                      0.0             0.0   \n",
       "\n",
       "name     Ansatsu Kyoushitsu (TV)  Ao no Exorcist  Baccano!  \\\n",
       "user_id                                                      \n",
       "1                            0.0             0.0       0.0   \n",
       "2                            0.0             0.0       0.0   \n",
       "3                            0.0             8.0       0.0   \n",
       "5                            0.0             4.0       0.0   \n",
       "7                            0.0             0.0       0.0   \n",
       "\n",
       "name     Baka to Test to Shoukanjuu  Bakemonogatari  ...  Sword Art Online II  \\\n",
       "user_id                                              ...                        \n",
       "1                               0.0             0.0  ...                  0.0   \n",
       "2                               0.0             0.0  ...                  0.0   \n",
       "3                               0.0             0.0  ...                  7.0   \n",
       "5                               1.0             0.0  ...                  0.0   \n",
       "7                               0.0             0.0  ...                  6.0   \n",
       "\n",
       "name     Tengen Toppa Gurren Lagann  Toaru Majutsu no Index  Tokyo Ghoul  \\\n",
       "user_id                                                                    \n",
       "1                               0.0                     0.0          0.0   \n",
       "2                               0.0                     0.0          0.0   \n",
       "3                               0.0                     0.0          6.0   \n",
       "5                               0.0                     6.0          2.0   \n",
       "7                               0.0                     9.0          0.0   \n",
       "\n",
       "name     Tokyo Ghoul √A  Tonari no Kaibutsu-kun  Toradora!  \\\n",
       "user_id                                                      \n",
       "1                   0.0                     0.0        0.0   \n",
       "2                   0.0                     0.0        0.0   \n",
       "3                   8.0                     0.0        0.0   \n",
       "5                   2.0                     2.0        3.0   \n",
       "7                   0.0                     0.0        0.0   \n",
       "\n",
       "name     Yahari Ore no Seishun Love Comedy wa Machigatteiru.  \\\n",
       "user_id                                                        \n",
       "1                                                      0.0     \n",
       "2                                                      0.0     \n",
       "3                                                      0.0     \n",
       "5                                                      3.0     \n",
       "7                                                      0.0     \n",
       "\n",
       "name     Zankyou no Terror  Zero no Tsukaima  \n",
       "user_id                                       \n",
       "1                      0.0               0.0  \n",
       "2                      0.0               0.0  \n",
       "3                      0.0               0.0  \n",
       "5                      0.0               1.0  \n",
       "7                      0.0               0.0  \n",
       "\n",
       "[5 rows x 104 columns]"
      ]
     },
     "execution_count": 22,
     "metadata": {},
     "output_type": "execute_result"
    }
   ],
   "source": [
    "pivot.fillna(0, inplace=True)\n",
    "pivot.head()"
   ]
  },
  {
   "cell_type": "code",
   "execution_count": 23,
   "metadata": {
    "colab": {
     "base_uri": "https://localhost:8080/",
     "height": 282
    },
    "executionInfo": {
     "elapsed": 546,
     "status": "ok",
     "timestamp": 1631532194281,
     "user": {
      "displayName": "anonymous anwicgh",
      "photoUrl": "https://lh3.googleusercontent.com/a-/AOh14Gj2JkB8jOGL-4H5v3uEQ2ReXFEl47PMFD7v3Lsr=s64",
      "userId": "09312410064248870968"
     },
     "user_tz": -330
    },
    "id": "Km-8uoO_1YaZ",
    "outputId": "ced66603-8a52-471d-8dd8-59c0bfe8570c"
   },
   "outputs": [
    {
     "data": {
      "text/html": [
       "<div>\n",
       "<style scoped>\n",
       "    .dataframe tbody tr th:only-of-type {\n",
       "        vertical-align: middle;\n",
       "    }\n",
       "\n",
       "    .dataframe tbody tr th {\n",
       "        vertical-align: top;\n",
       "    }\n",
       "\n",
       "    .dataframe thead th {\n",
       "        text-align: right;\n",
       "    }\n",
       "</style>\n",
       "<table border=\"1\" class=\"dataframe\">\n",
       "  <thead>\n",
       "    <tr style=\"text-align: right;\">\n",
       "      <th>user_id</th>\n",
       "      <th>1</th>\n",
       "      <th>2</th>\n",
       "      <th>3</th>\n",
       "      <th>5</th>\n",
       "      <th>7</th>\n",
       "      <th>8</th>\n",
       "      <th>9</th>\n",
       "      <th>10</th>\n",
       "      <th>11</th>\n",
       "      <th>12</th>\n",
       "      <th>...</th>\n",
       "      <th>9991</th>\n",
       "      <th>9992</th>\n",
       "      <th>9993</th>\n",
       "      <th>9994</th>\n",
       "      <th>9995</th>\n",
       "      <th>9996</th>\n",
       "      <th>9997</th>\n",
       "      <th>9998</th>\n",
       "      <th>9999</th>\n",
       "      <th>10000</th>\n",
       "    </tr>\n",
       "    <tr>\n",
       "      <th>user_id</th>\n",
       "      <th></th>\n",
       "      <th></th>\n",
       "      <th></th>\n",
       "      <th></th>\n",
       "      <th></th>\n",
       "      <th></th>\n",
       "      <th></th>\n",
       "      <th></th>\n",
       "      <th></th>\n",
       "      <th></th>\n",
       "      <th></th>\n",
       "      <th></th>\n",
       "      <th></th>\n",
       "      <th></th>\n",
       "      <th></th>\n",
       "      <th></th>\n",
       "      <th></th>\n",
       "      <th></th>\n",
       "      <th></th>\n",
       "      <th></th>\n",
       "      <th></th>\n",
       "    </tr>\n",
       "  </thead>\n",
       "  <tbody>\n",
       "    <tr>\n",
       "      <th>1</th>\n",
       "      <td>1.000000</td>\n",
       "      <td>0.000000</td>\n",
       "      <td>0.181608</td>\n",
       "      <td>0.077850</td>\n",
       "      <td>0.157672</td>\n",
       "      <td>0.219578</td>\n",
       "      <td>0.000000</td>\n",
       "      <td>0.321019</td>\n",
       "      <td>0.131966</td>\n",
       "      <td>0.273179</td>\n",
       "      <td>...</td>\n",
       "      <td>0.000000</td>\n",
       "      <td>0.000000</td>\n",
       "      <td>0.000000</td>\n",
       "      <td>0.000000</td>\n",
       "      <td>0.166112</td>\n",
       "      <td>0.177187</td>\n",
       "      <td>0.000000</td>\n",
       "      <td>0.319874</td>\n",
       "      <td>0.134917</td>\n",
       "      <td>0.223814</td>\n",
       "    </tr>\n",
       "    <tr>\n",
       "      <th>2</th>\n",
       "      <td>0.000000</td>\n",
       "      <td>1.000000</td>\n",
       "      <td>0.209703</td>\n",
       "      <td>0.000000</td>\n",
       "      <td>0.000000</td>\n",
       "      <td>0.000000</td>\n",
       "      <td>0.000000</td>\n",
       "      <td>0.000000</td>\n",
       "      <td>0.000000</td>\n",
       "      <td>0.000000</td>\n",
       "      <td>...</td>\n",
       "      <td>0.000000</td>\n",
       "      <td>0.000000</td>\n",
       "      <td>0.000000</td>\n",
       "      <td>0.000000</td>\n",
       "      <td>0.111889</td>\n",
       "      <td>0.000000</td>\n",
       "      <td>0.000000</td>\n",
       "      <td>0.000000</td>\n",
       "      <td>0.000000</td>\n",
       "      <td>0.000000</td>\n",
       "    </tr>\n",
       "    <tr>\n",
       "      <th>3</th>\n",
       "      <td>0.181608</td>\n",
       "      <td>0.209703</td>\n",
       "      <td>1.000000</td>\n",
       "      <td>0.476739</td>\n",
       "      <td>0.320707</td>\n",
       "      <td>0.142671</td>\n",
       "      <td>0.000000</td>\n",
       "      <td>0.316114</td>\n",
       "      <td>0.238462</td>\n",
       "      <td>0.328759</td>\n",
       "      <td>...</td>\n",
       "      <td>0.205496</td>\n",
       "      <td>0.265209</td>\n",
       "      <td>0.127955</td>\n",
       "      <td>0.368553</td>\n",
       "      <td>0.509828</td>\n",
       "      <td>0.378278</td>\n",
       "      <td>0.222424</td>\n",
       "      <td>0.275742</td>\n",
       "      <td>0.282385</td>\n",
       "      <td>0.235750</td>\n",
       "    </tr>\n",
       "    <tr>\n",
       "      <th>5</th>\n",
       "      <td>0.077850</td>\n",
       "      <td>0.000000</td>\n",
       "      <td>0.476739</td>\n",
       "      <td>1.000000</td>\n",
       "      <td>0.382446</td>\n",
       "      <td>0.148149</td>\n",
       "      <td>0.080904</td>\n",
       "      <td>0.014995</td>\n",
       "      <td>0.154873</td>\n",
       "      <td>0.207566</td>\n",
       "      <td>...</td>\n",
       "      <td>0.071666</td>\n",
       "      <td>0.136746</td>\n",
       "      <td>0.216077</td>\n",
       "      <td>0.274362</td>\n",
       "      <td>0.585380</td>\n",
       "      <td>0.452903</td>\n",
       "      <td>0.133485</td>\n",
       "      <td>0.158378</td>\n",
       "      <td>0.222931</td>\n",
       "      <td>0.084796</td>\n",
       "    </tr>\n",
       "    <tr>\n",
       "      <th>7</th>\n",
       "      <td>0.157672</td>\n",
       "      <td>0.000000</td>\n",
       "      <td>0.320707</td>\n",
       "      <td>0.382446</td>\n",
       "      <td>1.000000</td>\n",
       "      <td>0.150850</td>\n",
       "      <td>0.156055</td>\n",
       "      <td>0.151847</td>\n",
       "      <td>0.384006</td>\n",
       "      <td>0.304586</td>\n",
       "      <td>...</td>\n",
       "      <td>0.000000</td>\n",
       "      <td>0.000000</td>\n",
       "      <td>0.123834</td>\n",
       "      <td>0.201517</td>\n",
       "      <td>0.545027</td>\n",
       "      <td>0.422721</td>\n",
       "      <td>0.110347</td>\n",
       "      <td>0.280996</td>\n",
       "      <td>0.244445</td>\n",
       "      <td>0.114270</td>\n",
       "    </tr>\n",
       "  </tbody>\n",
       "</table>\n",
       "<p>5 rows × 8967 columns</p>\n",
       "</div>"
      ],
      "text/plain": [
       "user_id     1         2         3         5         7         8         9      \\\n",
       "user_id                                                                         \n",
       "1        1.000000  0.000000  0.181608  0.077850  0.157672  0.219578  0.000000   \n",
       "2        0.000000  1.000000  0.209703  0.000000  0.000000  0.000000  0.000000   \n",
       "3        0.181608  0.209703  1.000000  0.476739  0.320707  0.142671  0.000000   \n",
       "5        0.077850  0.000000  0.476739  1.000000  0.382446  0.148149  0.080904   \n",
       "7        0.157672  0.000000  0.320707  0.382446  1.000000  0.150850  0.156055   \n",
       "\n",
       "user_id     10        11        12     ...     9991      9992      9993   \\\n",
       "user_id                                ...                                 \n",
       "1        0.321019  0.131966  0.273179  ...  0.000000  0.000000  0.000000   \n",
       "2        0.000000  0.000000  0.000000  ...  0.000000  0.000000  0.000000   \n",
       "3        0.316114  0.238462  0.328759  ...  0.205496  0.265209  0.127955   \n",
       "5        0.014995  0.154873  0.207566  ...  0.071666  0.136746  0.216077   \n",
       "7        0.151847  0.384006  0.304586  ...  0.000000  0.000000  0.123834   \n",
       "\n",
       "user_id     9994      9995      9996      9997      9998      9999      10000  \n",
       "user_id                                                                        \n",
       "1        0.000000  0.166112  0.177187  0.000000  0.319874  0.134917  0.223814  \n",
       "2        0.000000  0.111889  0.000000  0.000000  0.000000  0.000000  0.000000  \n",
       "3        0.368553  0.509828  0.378278  0.222424  0.275742  0.282385  0.235750  \n",
       "5        0.274362  0.585380  0.452903  0.133485  0.158378  0.222931  0.084796  \n",
       "7        0.201517  0.545027  0.422721  0.110347  0.280996  0.244445  0.114270  \n",
       "\n",
       "[5 rows x 8967 columns]"
      ]
     },
     "execution_count": 23,
     "metadata": {},
     "output_type": "execute_result"
    }
   ],
   "source": [
    "from sklearn.metrics.pairwise import cosine_similarity\n",
    "user_sim_df = pd.DataFrame(cosine_similarity(pivot, pivot), index=pivot.index, columns=pivot.index)\n",
    "user_sim_df.head()"
   ]
  },
  {
   "cell_type": "code",
   "execution_count": 24,
   "metadata": {
    "executionInfo": {
     "elapsed": 10,
     "status": "ok",
     "timestamp": 1631532194283,
     "user": {
      "displayName": "anonymous anwicgh",
      "photoUrl": "https://lh3.googleusercontent.com/a-/AOh14Gj2JkB8jOGL-4H5v3uEQ2ReXFEl47PMFD7v3Lsr=s64",
      "userId": "09312410064248870968"
     },
     "user_tz": -330
    },
    "id": "snixOi0q12DV"
   },
   "outputs": [],
   "source": [
    "def get_similar_user(user_id):\n",
    "    if user_id not in pivot.index:\n",
    "        return None, None\n",
    "    else:\n",
    "        sim_users = user_sim_df.sort_values(by=user_id, ascending=False).index[1:]\n",
    "        sim_score = user_sim_df.sort_values(by=user_id, ascending=False).loc[:, user_id].tolist()[1:]\n",
    "        return sim_users, sim_score"
   ]
  },
  {
   "cell_type": "code",
   "execution_count": 25,
   "metadata": {
    "colab": {
     "base_uri": "https://localhost:8080/"
    },
    "executionInfo": {
     "elapsed": 956,
     "status": "ok",
     "timestamp": 1631532195230,
     "user": {
      "displayName": "anonymous anwicgh",
      "photoUrl": "https://lh3.googleusercontent.com/a-/AOh14Gj2JkB8jOGL-4H5v3uEQ2ReXFEl47PMFD7v3Lsr=s64",
      "userId": "09312410064248870968"
     },
     "user_tz": -330
    },
    "id": "LIpYVugn2Roh",
    "outputId": "c73e0a3d-2de0-47fe-dc99-75892af2ecb0"
   },
   "outputs": [
    {
     "name": "stdout",
     "output_type": "stream",
     "text": [
      "User 2300 with similarity of 0.6661479925813487\n",
      "User 1963 with similarity of 0.6461246539067823\n",
      "User 9122 with similarity of 0.6428932751587525\n",
      "User 1842 with similarity of 0.6428559685031677\n",
      "User 2342 with similarity of 0.6414000954295932\n",
      "User 3275 with similarity of 0.6408771443981183\n",
      "User 3990 with similarity of 0.6330169598476988\n",
      "User 3739 with similarity of 0.6326654920043088\n",
      "User 1176 with similarity of 0.630582074947154\n",
      "User 3203 with similarity of 0.6303547875387372\n"
     ]
    }
   ],
   "source": [
    "users, score = get_similar_user(5)\n",
    "for x,y in zip(users[:10], score[:10]):\n",
    "    print(\"User {} with similarity of {}\".format(x, y))"
   ]
  },
  {
   "cell_type": "code",
   "execution_count": 31,
   "metadata": {
    "executionInfo": {
     "elapsed": 514,
     "status": "ok",
     "timestamp": 1631532206486,
     "user": {
      "displayName": "anonymous anwicgh",
      "photoUrl": "https://lh3.googleusercontent.com/a-/AOh14Gj2JkB8jOGL-4H5v3uEQ2ReXFEl47PMFD7v3Lsr=s64",
      "userId": "09312410064248870968"
     },
     "user_tz": -330
    },
    "id": "gtocU4NF2XqK"
   },
   "outputs": [],
   "source": [
    "\n",
    "def get_recommendation(user_id, n_anime=10):\n",
    "    users, scores = get_similar_user(user_id)\n",
    "    \n",
    "    # there is no information for this user\n",
    "    if users is None or score is None:\n",
    "        return None\n",
    "    \n",
    "    # only take 10 nearest users\n",
    "    user_arr = np.array([x for x in users[:10]])\n",
    "    sim_arr = np.array([x for x in scores[:10]])\n",
    "    predicted_rating = np.array([])\n",
    "    \n",
    "    for anime_name in pivot.columns:\n",
    "        filtering = pivot[anime_name].loc[user_arr] != 0.0  \n",
    "        temp = np.dot(pivot[anime_name].loc[user_arr[filtering]], sim_arr[filtering]) / np.sum(sim_arr[filtering])\n",
    "        predicted_rating = np.append(predicted_rating, temp)\n",
    "    \n",
    "    # don't recommend something that user has already rated\n",
    "    temp = pd.DataFrame({'predicted':predicted_rating, 'name':pivot.columns})\n",
    "    filtering = (pivot.loc[user_id] == 0.0)\n",
    "    temp = temp.loc[filtering.values].sort_values(by='predicted', ascending=False)\n",
    "    return temp\n",
    "\n",
    "    # recommend n_anime anime\n",
    "    #recom=[]\n",
    "    #recom.append(anime_df.loc[anime_index.loc[temp.name[:n_anime]]].name())\n",
    "        \n",
    "    #return anime_df.loc[anime_index.loc[temp.name[:n_anime]]].name()"
   ]
  },
  {
   "cell_type": "code",
   "execution_count": 36,
   "metadata": {
    "colab": {
     "base_uri": "https://localhost:8080/",
     "height": 357
    },
    "executionInfo": {
     "elapsed": 1423,
     "status": "ok",
     "timestamp": 1631532263553,
     "user": {
      "displayName": "anonymous anwicgh",
      "photoUrl": "https://lh3.googleusercontent.com/a-/AOh14Gj2JkB8jOGL-4H5v3uEQ2ReXFEl47PMFD7v3Lsr=s64",
      "userId": "09312410064248870968"
     },
     "user_tz": -330
    },
    "id": "1OYT7eOC2uLx",
    "outputId": "9b658672-4d18-48fa-af95-799a51640315"
   },
   "outputs": [],
   "source": [
    "df =get_recommendation(5)\n"
   ]
  },
  {
   "cell_type": "code",
   "execution_count": 50,
   "metadata": {},
   "outputs": [
    {
     "ename": "NameError",
     "evalue": "name 'temp' is not defined",
     "output_type": "error",
     "traceback": [
      "\u001b[1;31m---------------------------------------------------------------------------\u001b[0m",
      "\u001b[1;31mNameError\u001b[0m                                 Traceback (most recent call last)",
      "\u001b[1;32m<ipython-input-50-b54b0036d3c9>\u001b[0m in \u001b[0;36m<module>\u001b[1;34m\u001b[0m\n\u001b[1;32m----> 1\u001b[1;33m \u001b[0mtemp\u001b[0m\u001b[1;33m.\u001b[0m\u001b[0mhead\u001b[0m\u001b[1;33m(\u001b[0m\u001b[1;33m)\u001b[0m\u001b[1;33m\u001b[0m\u001b[1;33m\u001b[0m\u001b[0m\n\u001b[0m",
      "\u001b[1;31mNameError\u001b[0m: name 'temp' is not defined"
     ]
    }
   ],
   "source": [
    "df[\"name\"].tolist()"
   ]
  },
  {
   "cell_type": "code",
   "execution_count": 29,
   "metadata": {},
   "outputs": [],
   "source": [
    "import pickle"
   ]
  },
  {
   "cell_type": "code",
   "execution_count": null,
   "metadata": {},
   "outputs": [],
   "source": []
  },
  {
   "cell_type": "code",
   "execution_count": 22,
   "metadata": {
    "executionInfo": {
     "elapsed": 460,
     "status": "ok",
     "timestamp": 1631536409111,
     "user": {
      "displayName": "anonymous anwicgh",
      "photoUrl": "https://lh3.googleusercontent.com/a-/AOh14Gj2JkB8jOGL-4H5v3uEQ2ReXFEl47PMFD7v3Lsr=s64",
      "userId": "09312410064248870968"
     },
     "user_tz": -330
    },
    "id": "HfcZXkDC2xLJ"
   },
   "outputs": [],
   "source": [
    "pickle.dump(user_sim_df.to_dict(),open('user_sim_df','wb'))"
   ]
  },
  {
   "cell_type": "code",
   "execution_count": 24,
   "metadata": {
    "executionInfo": {
     "elapsed": 514,
     "status": "ok",
     "timestamp": 1631536444514,
     "user": {
      "displayName": "anonymous anwicgh",
      "photoUrl": "https://lh3.googleusercontent.com/a-/AOh14Gj2JkB8jOGL-4H5v3uEQ2ReXFEl47PMFD7v3Lsr=s64",
      "userId": "09312410064248870968"
     },
     "user_tz": -330
    },
    "id": "jl3ZHycqGkUg"
   },
   "outputs": [],
   "source": [
    "pickle.dump(anime_index.to_dict(),open('anime_index','wb'))"
   ]
  },
  {
   "cell_type": "code",
   "execution_count": 30,
   "metadata": {
    "colab": {
     "base_uri": "https://localhost:8080/"
    },
    "executionInfo": {
     "elapsed": 742,
     "status": "ok",
     "timestamp": 1631536497189,
     "user": {
      "displayName": "anonymous anwicgh",
      "photoUrl": "https://lh3.googleusercontent.com/a-/AOh14Gj2JkB8jOGL-4H5v3uEQ2ReXFEl47PMFD7v3Lsr=s64",
      "userId": "09312410064248870968"
     },
     "user_tz": -330
    },
    "id": "bCaGQj9kJm-N",
    "outputId": "e2bca63a-d878-45aa-96ec-98e242765d63"
   },
   "outputs": [],
   "source": [
    "pickle.dump(pivot.to_dict(),open('pivot','wb'))"
   ]
  },
  {
   "cell_type": "code",
   "execution_count": null,
   "metadata": {
    "id": "wMb9wIQHJw68"
   },
   "outputs": [],
   "source": []
  }
 ],
 "metadata": {
  "accelerator": "GPU",
  "colab": {
   "authorship_tag": "ABX9TyP4bvAO5iIAsQ9w/TFDgWh9",
   "collapsed_sections": [],
   "mount_file_id": "1pbV1_0SF_a7_ezqPrS2lbWsV3zesUbz-",
   "name": "Recomendation.ipynb",
   "provenance": []
  },
  "kernelspec": {
   "display_name": "Python 3",
   "language": "python",
   "name": "python3"
  },
  "language_info": {
   "codemirror_mode": {
    "name": "ipython",
    "version": 3
   },
   "file_extension": ".py",
   "mimetype": "text/x-python",
   "name": "python",
   "nbconvert_exporter": "python",
   "pygments_lexer": "ipython3",
   "version": "3.8.8"
  }
 },
 "nbformat": 4,
 "nbformat_minor": 1
}
